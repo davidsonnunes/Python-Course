{
 "cells": [
  {
   "cell_type": "markdown",
   "id": "ddc0e5de-1f3c-43c0-8a08-47dd26f17743",
   "metadata": {},
   "source": [
    "## Cientista de Dados Python para Iniciantes"
   ]
  },
  {
   "cell_type": "code",
   "execution_count": null,
   "id": "77ff6d1e-2fee-4fd7-bb79-87815c7aa399",
   "metadata": {},
   "outputs": [],
   "source": [
    "# importando as bibliotecas necessárias\n",
    "import numpy as np \n",
    "import sys"
   ]
  },
  {
   "cell_type": "markdown",
   "id": "e4829abc-0616-4b28-b853-d9503d262032",
   "metadata": {},
   "source": [
    "# Criando sua primeiro Array"
   ]
  },
  {
   "cell_type": "code",
   "execution_count": 9,
   "id": "5e453e0f-dc65-4735-ad92-895f1f7201bc",
   "metadata": {},
   "outputs": [],
   "source": [
    "a = [1,2,3,4,5]\n",
    "b = np.array([1,2,3,4,5])"
   ]
  },
  {
   "cell_type": "code",
   "execution_count": 3,
   "id": "6976dbaa-265e-4cab-b4d3-01b0ceefaafe",
   "metadata": {},
   "outputs": [
    {
     "name": "stdout",
     "output_type": "stream",
     "text": [
      "[1, 2, 3, 4, 5]\n",
      "[1 2 3 4 5]\n"
     ]
    }
   ],
   "source": [
    "print(a)\n",
    "print(b)"
   ]
  },
  {
   "cell_type": "code",
   "execution_count": 5,
   "id": "fa5d2464-f773-400c-9c24-7bfe2e49317a",
   "metadata": {},
   "outputs": [
    {
     "data": {
      "text/plain": [
       "120"
      ]
     },
     "execution_count": 5,
     "metadata": {},
     "output_type": "execute_result"
    }
   ],
   "source": [
    "sys.getsizeof(a)"
   ]
  },
  {
   "cell_type": "code",
   "execution_count": 6,
   "id": "66f353e3-e56a-4a6c-831a-df4c62b22bb0",
   "metadata": {},
   "outputs": [
    {
     "data": {
      "text/plain": [
       "20"
      ]
     },
     "execution_count": 6,
     "metadata": {},
     "output_type": "execute_result"
    }
   ],
   "source": [
    "b.nbytes"
   ]
  },
  {
   "cell_type": "markdown",
   "id": "29eb6dac-b0c2-4857-968d-1d8b33975743",
   "metadata": {},
   "source": [
    "# Criando Arrays em 1D, 2D e 3D"
   ]
  },
  {
   "cell_type": "code",
   "execution_count": 11,
   "id": "5a5490df-4532-440d-b59c-ee2a411cb71b",
   "metadata": {},
   "outputs": [
    {
     "name": "stdout",
     "output_type": "stream",
     "text": [
      "[1 2 3]\n"
     ]
    }
   ],
   "source": [
    "# Arry 1D\n",
    "\n",
    "d1 = np.array([1,2,3])\n",
    "print(d1)"
   ]
  },
  {
   "cell_type": "code",
   "execution_count": 12,
   "id": "947c5d04-f17a-4b28-b1f5-2780eb2abf3b",
   "metadata": {},
   "outputs": [
    {
     "data": {
      "text/plain": [
       "(3,)"
      ]
     },
     "execution_count": 12,
     "metadata": {},
     "output_type": "execute_result"
    }
   ],
   "source": [
    "d1.shape"
   ]
  },
  {
   "cell_type": "code",
   "execution_count": 13,
   "id": "a3026289-21b1-4e9f-86d1-33cc06488074",
   "metadata": {},
   "outputs": [
    {
     "data": {
      "text/plain": [
       "1"
      ]
     },
     "execution_count": 13,
     "metadata": {},
     "output_type": "execute_result"
    }
   ],
   "source": [
    "d1.ndim"
   ]
  },
  {
   "cell_type": "code",
   "execution_count": 14,
   "id": "13563048-af4a-49a9-9d26-0238efdc1edb",
   "metadata": {},
   "outputs": [
    {
     "data": {
      "text/plain": [
       "dtype('int32')"
      ]
     },
     "execution_count": 14,
     "metadata": {},
     "output_type": "execute_result"
    }
   ],
   "source": [
    "d1.dtype"
   ]
  },
  {
   "cell_type": "code",
   "execution_count": 3,
   "id": "3c2e1aa2-04b3-47a6-bae0-6542a1e46c14",
   "metadata": {},
   "outputs": [
    {
     "name": "stdout",
     "output_type": "stream",
     "text": [
      "[[1 2 3]\n",
      " [4 5 6]]\n"
     ]
    }
   ],
   "source": [
    "# Arry 2D\n",
    "d2 = np.array([[1,2,3],[4,5,6]])\n",
    "print(d2)"
   ]
  },
  {
   "cell_type": "code",
   "execution_count": 4,
   "id": "9b6f486c-6774-4c1b-b5f5-dc146e3c2a63",
   "metadata": {},
   "outputs": [
    {
     "data": {
      "text/plain": [
       "(2, 3)"
      ]
     },
     "execution_count": 4,
     "metadata": {},
     "output_type": "execute_result"
    }
   ],
   "source": [
    "d2.shape"
   ]
  },
  {
   "cell_type": "code",
   "execution_count": 5,
   "id": "6638918b-72fe-478c-9cce-bc5926b6d913",
   "metadata": {},
   "outputs": [
    {
     "data": {
      "text/plain": [
       "2"
      ]
     },
     "execution_count": 5,
     "metadata": {},
     "output_type": "execute_result"
    }
   ],
   "source": [
    "d2.ndim"
   ]
  },
  {
   "cell_type": "code",
   "execution_count": 6,
   "id": "34c0cb22-913d-4833-a204-d3f8e8b19946",
   "metadata": {},
   "outputs": [
    {
     "data": {
      "text/plain": [
       "dtype('int32')"
      ]
     },
     "execution_count": 6,
     "metadata": {},
     "output_type": "execute_result"
    }
   ],
   "source": [
    "d2.dtype"
   ]
  },
  {
   "cell_type": "code",
   "execution_count": 12,
   "id": "b254f1a8-d02f-4afa-9aef-3a1af7d8159c",
   "metadata": {},
   "outputs": [
    {
     "name": "stdout",
     "output_type": "stream",
     "text": [
      "[[[1 2]\n",
      "  [3 4]]\n",
      "\n",
      " [[5 6]\n",
      "  [7 8]]]\n"
     ]
    }
   ],
   "source": [
    "# Arry 3D\n",
    "d3 = np.array([[[1,2],[3,4]], [[5,6], [7,8]]] )\n",
    "print(d3)"
   ]
  },
  {
   "cell_type": "code",
   "execution_count": 13,
   "id": "5800ca82-1ebd-456c-871b-ea75192f0af4",
   "metadata": {},
   "outputs": [
    {
     "data": {
      "text/plain": [
       "(2, 2, 2)"
      ]
     },
     "execution_count": 13,
     "metadata": {},
     "output_type": "execute_result"
    }
   ],
   "source": [
    "d3.shape"
   ]
  },
  {
   "cell_type": "code",
   "execution_count": 14,
   "id": "b94928dc-54e7-47b9-9889-f6fc972b6aef",
   "metadata": {},
   "outputs": [
    {
     "data": {
      "text/plain": [
       "3"
      ]
     },
     "execution_count": 14,
     "metadata": {},
     "output_type": "execute_result"
    }
   ],
   "source": [
    "d3.ndim"
   ]
  },
  {
   "cell_type": "code",
   "execution_count": 15,
   "id": "a9de1a47-c9f0-46c1-a084-5f2d2cb44513",
   "metadata": {},
   "outputs": [
    {
     "data": {
      "text/plain": [
       "dtype('int32')"
      ]
     },
     "execution_count": 15,
     "metadata": {},
     "output_type": "execute_result"
    }
   ],
   "source": [
    "d3.dtype"
   ]
  },
  {
   "cell_type": "markdown",
   "id": "7bd62b7b-fa42-4868-a736-4f3b5072fa24",
   "metadata": {},
   "source": [
    "# Somando duas Arrays"
   ]
  },
  {
   "cell_type": "code",
   "execution_count": 16,
   "id": "bf866358-d8c3-4384-b9e7-534820c58e02",
   "metadata": {},
   "outputs": [],
   "source": [
    "a = np.array([2,3,4])\n",
    "b = np.array([2,3,4])"
   ]
  },
  {
   "cell_type": "code",
   "execution_count": 19,
   "id": "8e2ef5f7-bd86-44f1-871e-2fb270505a4e",
   "metadata": {},
   "outputs": [
    {
     "name": "stdout",
     "output_type": "stream",
     "text": [
      "[4 6 8]\n"
     ]
    }
   ],
   "source": [
    "result =np.add(a, b)\n",
    "print(result)"
   ]
  },
  {
   "cell_type": "markdown",
   "id": "769a6a80-ae44-419e-a9fc-c868e8f81d30",
   "metadata": {},
   "source": [
    "# Selecionando itens em Arrays"
   ]
  },
  {
   "cell_type": "code",
   "execution_count": 30,
   "id": "2ffacfb4-0710-4143-9fcd-90d5817a195e",
   "metadata": {},
   "outputs": [
    {
     "name": "stdout",
     "output_type": "stream",
     "text": [
      "[['2' '3' 'R$19,90' '5']\n",
      " ['6' '7' 'Apple' '9']]\n"
     ]
    }
   ],
   "source": [
    "a = np.array([[2,3,'R$19,90',5], [6,7,'Apple',9]])\n",
    "print(a)"
   ]
  },
  {
   "cell_type": "code",
   "execution_count": 29,
   "id": "cf5cf0bf-dd5a-4798-90da-d0037994494f",
   "metadata": {},
   "outputs": [
    {
     "data": {
      "text/plain": [
       "'Apple'"
      ]
     },
     "execution_count": 29,
     "metadata": {},
     "output_type": "execute_result"
    }
   ],
   "source": [
    "# array [linha, coluna]\n",
    "\n",
    "a [1,2]"
   ]
  },
  {
   "cell_type": "code",
   "execution_count": 23,
   "id": "d5f75e2b-ef5e-48c6-99e1-96a9d9e545e1",
   "metadata": {},
   "outputs": [
    {
     "data": {
      "text/plain": [
       "9"
      ]
     },
     "execution_count": 23,
     "metadata": {},
     "output_type": "execute_result"
    }
   ],
   "source": [
    "a [1,3]"
   ]
  },
  {
   "cell_type": "code",
   "execution_count": 24,
   "id": "5f162e8d-928a-4a2e-9099-efd762196926",
   "metadata": {},
   "outputs": [
    {
     "data": {
      "text/plain": [
       "2"
      ]
     },
     "execution_count": 24,
     "metadata": {},
     "output_type": "execute_result"
    }
   ],
   "source": [
    "a [0,0]"
   ]
  },
  {
   "cell_type": "code",
   "execution_count": 25,
   "id": "4d9e7468-68a7-41ee-8538-06470e5c76c8",
   "metadata": {},
   "outputs": [
    {
     "data": {
      "text/plain": [
       "8"
      ]
     },
     "execution_count": 25,
     "metadata": {},
     "output_type": "execute_result"
    }
   ],
   "source": [
    "a [1,-2]"
   ]
  },
  {
   "cell_type": "code",
   "execution_count": 26,
   "id": "6016faeb-314b-4b79-9f76-a10fffadca8b",
   "metadata": {},
   "outputs": [
    {
     "data": {
      "text/plain": [
       "array([2, 3, 4, 5])"
      ]
     },
     "execution_count": 26,
     "metadata": {},
     "output_type": "execute_result"
    }
   ],
   "source": [
    "a[0,:]"
   ]
  },
  {
   "cell_type": "code",
   "execution_count": 31,
   "id": "e5debe05-e701-4f69-947f-3c43a11ef5c5",
   "metadata": {},
   "outputs": [
    {
     "data": {
      "text/plain": [
       "array(['R$19,90', 'Apple'], dtype='<U11')"
      ]
     },
     "execution_count": 31,
     "metadata": {},
     "output_type": "execute_result"
    }
   ],
   "source": [
    "a[:,2]"
   ]
  }
 ],
 "metadata": {
  "kernelspec": {
   "display_name": "Python 3 (ipykernel)",
   "language": "python",
   "name": "python3"
  },
  "language_info": {
   "codemirror_mode": {
    "name": "ipython",
    "version": 3
   },
   "file_extension": ".py",
   "mimetype": "text/x-python",
   "name": "python",
   "nbconvert_exporter": "python",
   "pygments_lexer": "ipython3",
   "version": "3.9.12"
  }
 },
 "nbformat": 4,
 "nbformat_minor": 5
}
